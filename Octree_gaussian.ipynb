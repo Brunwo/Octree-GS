{
  "nbformat": 4,
  "nbformat_minor": 0,
  "metadata": {
    "colab": {
      "provenance": [],
      "gpuType": "T4",
      "collapsed_sections": [
        "0s26JraEpvF0"
      ]
    },
    "kernelspec": {
      "name": "python3",
      "display_name": "Python 3"
    },
    "language_info": {
      "name": "python"
    },
    "accelerator": "GPU"
  },
  "cells": [
    {
      "cell_type": "markdown",
      "source": [
        "# setup"
      ],
      "metadata": {
        "id": "o6jMfd1gmc7q"
      }
    },
    {
      "cell_type": "code",
      "execution_count": null,
      "metadata": {
        "id": "Vpa0x1HS4QJ7"
      },
      "outputs": [],
      "source": [
        "#original repo\n",
        "#!git clone https://github.com/city-super/Octree-GS --recursive\n",
        "\n",
        "#forked for colab compatibility\n",
        "!git clone Brunwo/Octree-GS --recursive"
      ]
    },
    {
      "cell_type": "code",
      "source": [
        "%cd /content/Octree-GS"
      ],
      "metadata": {
        "id": "yQBiIBYvc63u"
      },
      "execution_count": null,
      "outputs": []
    },
    {
      "cell_type": "code",
      "source": [
        "!pip install torch-scatter -f https://pytorch-geometric.com/whl/torch-2.2.1+cu121.html"
      ],
      "metadata": {
        "id": "fMhcgsY9myIS"
      },
      "execution_count": null,
      "outputs": []
    },
    {
      "cell_type": "code",
      "source": [
        "!pip install einops lpips laspy glob2 colorama plyfile jaxtyping wandb submodules/diff-gaussian-rasterization submodules/simple-knn"
      ],
      "metadata": {
        "id": "GW029lJE6Pib"
      },
      "execution_count": null,
      "outputs": []
    },
    {
      "cell_type": "markdown",
      "source": [
        "# get tandt dataset"
      ],
      "metadata": {
        "id": "VWSlCMEumk83"
      }
    },
    {
      "cell_type": "code",
      "source": [
        "#download one of the datasets\n",
        "!wget https://repo-sam.inria.fr/fungraph/3d-gaussian-splatting/datasets/input/tandt_db.zip"
      ],
      "metadata": {
        "id": "N-mWMEaiMLT1"
      },
      "execution_count": null,
      "outputs": []
    },
    {
      "cell_type": "code",
      "source": [
        "!unzip tandt_db.zip -d tandt"
      ],
      "metadata": {
        "id": "V3h3wiaJMSGn"
      },
      "execution_count": null,
      "outputs": []
    },
    {
      "cell_type": "code",
      "source": [
        "#needs hardcoded path for dataset\n",
        "!mkdir -p data/tandt\n",
        "!mv -r /content/Octree-GS/tandt/tandt data"
      ],
      "metadata": {
        "id": "F2McN1a7Saui"
      },
      "execution_count": null,
      "outputs": []
    },
    {
      "cell_type": "markdown",
      "source": [
        "# Run training\n"
      ],
      "metadata": {
        "id": "2byVsG3EqTbt"
      }
    },
    {
      "cell_type": "code",
      "source": [
        "#Tanks&Temples:\n",
        "!chmod +x train_tandt.sh\n",
        "!./train_tandt.sh"
      ],
      "metadata": {
        "id": "tFiJq3LSmEOR"
      },
      "execution_count": null,
      "outputs": []
    },
    {
      "cell_type": "code",
      "source": [
        "!zip -r  outputs.zip /content/Octree-GS/outputs -x /content/Octree-GS/outputs/tandt/train/baseline/**/backup/**\\*"
      ],
      "metadata": {
        "id": "jHq4s0Gg2GUV"
      },
      "execution_count": null,
      "outputs": []
    },
    {
      "cell_type": "markdown",
      "source": [
        "Save & download results"
      ],
      "metadata": {
        "id": "byz-dHiPmwrc"
      }
    },
    {
      "cell_type": "code",
      "source": [
        "from google.colab import files\n",
        "files.download('outputs.zip')"
      ],
      "metadata": {
        "id": "tnx-gOtIFX7C"
      },
      "execution_count": null,
      "outputs": []
    },
    {
      "cell_type": "markdown",
      "source": [
        "# other datasets"
      ],
      "metadata": {
        "id": "2bhtSlaJm4yF"
      }
    },
    {
      "cell_type": "code",
      "source": [
        "#MipNeRF360:\n",
        "!chmod +x train_mipnerf360.sh\n",
        "!./train_mipnerf360.sh"
      ],
      "metadata": {
        "id": "p3RIYQKMmNfW"
      },
      "execution_count": null,
      "outputs": []
    },
    {
      "cell_type": "code",
      "source": [
        "#BungeeNeRF:\n",
        "!chmod +x train_bungeenerf.sh\n",
        "!./train_bungeenerf.sh"
      ],
      "metadata": {
        "id": "crT2gHehmOWP"
      },
      "execution_count": null,
      "outputs": []
    },
    {
      "cell_type": "code",
      "source": [
        "#Deep Blending:\n",
        "!chmod +x train_db.sh\n",
        "!./train_db.sh"
      ],
      "metadata": {
        "id": "anmgkCecmO3d"
      },
      "execution_count": null,
      "outputs": []
    },
    {
      "cell_type": "code",
      "source": [
        "#delete runtime\n",
        "#from google.colab import runtime\n",
        "#runtime.unassign()"
      ],
      "metadata": {
        "id": "LkA4DYCpGguN"
      },
      "execution_count": null,
      "outputs": []
    }
  ]
}
